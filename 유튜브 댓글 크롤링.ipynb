{
 "cells": [
  {
   "cell_type": "code",
   "execution_count": 55,
   "id": "dfd393b3",
   "metadata": {
    "scrolled": true
   },
   "outputs": [
    {
     "name": "stderr",
     "output_type": "stream",
     "text": [
      "C:\\Users\\2106-022\\AppData\\Local\\Temp/ipykernel_4644/2971974473.py:11: DeprecationWarning: executable_path has been deprecated, please pass in a Service object\n",
      "  driver = webdriver.Chrome('chromedriver.exe', options=options)\n",
      "C:\\Users\\2106-022\\AppData\\Local\\Temp/ipykernel_4644/2971974473.py:34: DeprecationWarning: find_element_by_* commands are deprecated. Please use find_element() instead\n",
      "  e = driver.find_element_by_tag_name('body')\n"
     ]
    }
   ],
   "source": [
    "from selenium import webdriver\n",
    "from selenium.webdriver.common.keys import Keys\n",
    "import requests\n",
    "from bs4 import BeautifulSoup\n",
    "import pandas as pd\n",
    "import time \n",
    "\n",
    "options = webdriver.ChromeOptions()\n",
    "options.add_argument('window-size = 1920,1080')\n",
    "\n",
    "driver = webdriver.Chrome('chromedriver.exe', options=options)\n",
    "driver.implicitly_wait(5)\n",
    "driver.get('https://www.youtube.com/watch?v=awkkyBH2zEo')\n",
    "\n",
    "driver.execute_script(\"window.scrollTo(0, document.body.scrollHeight);\")\n",
    "\"\"\"\n",
    "#스크롤 높이 가져옴\n",
    "last_height = driver.execute_script(\"return document.body.scrollHeight\")\n",
    "\n",
    "while True:\n",
    "    # 끝까지 스크롤 내림\n",
    "    driver.execute_script(\"window.scrollTo(0,document.body.scrollHeight);\")\n",
    "    # 대기\n",
    "    time.sleep(1)\n",
    "    \n",
    "    #스크롤 다운 후 스크롤 높이 다시 가져옴\n",
    "    new_height = driver.execute_script(\"return document.body.scrollHeight\")\n",
    "    if new_height == last_height:\n",
    "        break\n",
    "    last_height = new_height\n",
    "\"\"\"\n",
    "\n",
    "    \n",
    "e = driver.find_element_by_tag_name('body')\n",
    "for i in range(15):\n",
    "  e.send_keys(Keys.PAGE_DOWN)\n",
    "  time.sleep(1)\n",
    "\n",
    "html_source = driver.page_source \n",
    "\n",
    "driver.close() \n",
    "\n",
    "soup = BeautifulSoup(html_source, 'html.parser')\n",
    "\n",
    "youtube_user_IDs = soup.select('div#header-author > a > span') \n",
    "youtube_comments = soup.select('yt-formatted-string#content-text')\n",
    "\n",
    "str_youtube_userIDs = [] \n",
    "str_youtube_comments = [] \n",
    "\n",
    "for i in range(len(youtube_user_IDs)):\n",
    "    str_tmp = str(youtube_user_IDs[i].text) \n",
    "    # print(str_tmp) \n",
    "    str_tmp = str_tmp.replace('\\n', '') \n",
    "    str_tmp = str_tmp.replace('\\t', '') \n",
    "    str_tmp = str_tmp.replace(' ','') \n",
    "    str_youtube_userIDs.append(str_tmp) \n",
    "    str_tmp = str(youtube_comments[i].text) \n",
    "    \n",
    "    str_tmp = str_tmp.replace('\\n', '') \n",
    "    str_tmp = str_tmp.replace('\\t', '') \n",
    "    str_tmp = str_tmp.replace(' ', '') \n",
    "    \n",
    "    str_youtube_comments.append(str_tmp)\n",
    "    \n",
    "    for i in range(len(str_youtube_userIDs)):\n",
    "        print(str_youtube_userIDs[i], str_youtube_comments[i])\n"
   ]
  },
  {
   "cell_type": "code",
   "execution_count": 39,
   "id": "9039102f",
   "metadata": {},
   "outputs": [],
   "source": [
    " "
   ]
  }
 ],
 "metadata": {
  "kernelspec": {
   "display_name": "Python 3 (ipykernel)",
   "language": "python",
   "name": "python3"
  },
  "language_info": {
   "codemirror_mode": {
    "name": "ipython",
    "version": 3
   },
   "file_extension": ".py",
   "mimetype": "text/x-python",
   "name": "python",
   "nbconvert_exporter": "python",
   "pygments_lexer": "ipython3",
   "version": "3.9.7"
  }
 },
 "nbformat": 4,
 "nbformat_minor": 5
}
