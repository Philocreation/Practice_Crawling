{
  "nbformat": 4,
  "nbformat_minor": 0,
  "metadata": {
    "colab": {
      "name": "LoL 전적 검색 통계.ipynb",
      "provenance": [],
      "collapsed_sections": [],
      "authorship_tag": "ABX9TyMSBF1x++ThWPk+iT/jPTws",
      "include_colab_link": true
    },
    "kernelspec": {
      "name": "python3",
      "display_name": "Python 3"
    },
    "language_info": {
      "name": "python"
    }
  },
  "cells": [
    {
      "cell_type": "markdown",
      "metadata": {
        "id": "view-in-github",
        "colab_type": "text"
      },
      "source": [
        "<a href=\"https://colab.research.google.com/github/Philocreation/Practice_Crawling/blob/Res%2FBs4/LoL_%EC%A0%84%EC%A0%81_%EA%B2%80%EC%83%89_%ED%86%B5%EA%B3%84.ipynb\" target=\"_parent\"><img src=\"https://colab.research.google.com/assets/colab-badge.svg\" alt=\"Open In Colab\"/></a>"
      ]
    },
    {
      "cell_type": "code",
      "metadata": {
        "id": "oOlIfnou3ODn"
      },
      "source": [
        "import requests\n",
        "from bs4 import BeautifulSoup\n",
        "from selenium import webdriver"
      ],
      "execution_count": 17,
      "outputs": []
    },
    {
      "cell_type": "code",
      "metadata": {
        "id": "qMSZuPCx3XWS",
        "colab": {
          "base_uri": "https://localhost:8080/"
        },
        "outputId": "4786dee7-b90e-4bd7-9185-70c6ade20316"
      },
      "source": [
        "op_res = requests.get('http://fow.kr/find/hide+on+bush')\n",
        "\n",
        "op_soup = BeautifulSoup(op_res.text, \"html5lib\")\n",
        "\n",
        "user_name = []\n",
        "\n",
        "# 소환사 닉네임(실행 X)\n",
        "#for i in op_soup.find('head',{'span' : 'iname'}) :\n",
        "#user_name.append(\"i.text\")\n",
        "\n",
        "#print(user_name)\n",
        "\n",
        "user_interface = op_soup.find_all(class_= \"tablesorter table_recent\")\n",
        "\n",
        "#print(user_interface)\n",
        "\n",
        "user_table = []\n",
        "\n",
        "\n",
        "\n",
        "for i in op_soup.find(class_='recent_td') : \n",
        "  user_table.append(i)\n",
        "\n",
        "for i in op_soup.select('b')[38] : \n",
        " user_table.append(i)\n",
        "\n",
        "#for i in op_soup.find(class_='recent_td recent_champ') :\n",
        "#  op_soup.select('td>div>div>b')\n",
        "#  user_champion.append(i)\n",
        "\n",
        "for i in op_soup.select('b')[37]:\n",
        "  user_table.append(i)\n",
        "\n",
        "for i in op_soup.select('br'):\n",
        "  user_table.append(i)\n",
        "\n",
        "\n",
        "print(user_table)\n",
        "\n",
        "\n",
        "\n"
      ],
      "execution_count": 166,
      "outputs": [
        {
          "output_type": "stream",
          "name": "stdout",
          "text": [
            "['승', '랭크', '트위스티드 페이트', <br/>, <br/>, <br/>, <br/>, <br/>, <br/>, <br/>, <br/>, <br/>, <br/>, <br/>, <br/>, <br/>, <br/>, <br/>, <br/>, <br/>, <br/>, <br/>, <br/>, <br/>, <br/>, <br/>, <br/>, <br/>, <br/>, <br/>, <br/>, <br/>, <br/>, <br/>, <br/>, <br/>, <br/>, <br/>, <br/>, <br/>, <br/>, <br/>, <br/>, <br/>, <br/>, <br/>, <br/>, <br/>, <br/>, <br/>, <br/>, <br/>, <br/>, <br/>, <br/>, <br/>, <br/>, <br/>, <br/>, <br/>, <br/>, <br/>, <br/>, <br/>, <br/>, <br/>, <br/>, <br/>, <br/>, <br/>, <br/>, <br/>, <br/>, <br/>, <br/>, <br/>, <br/>, <br/>, <br/>, <br/>, <br/>, <br/>, <br/>, <br/>, <br/>, <br/>, <br/>, <br/>, <br/>, <br/>, <br/>, <br/>, <br/>, <br/>, <br/>, <br/>, <br/>, <br/>, <br/>, <br/>, <br/>, <br/>, <br/>, <br/>, <br/>, <br/>, <br/>, <br/>, <br/>, <br/>, <br/>, <br/>, <br/>, <br/>, <br/>, <br/>, <br/>, <br/>, <br/>, <br/>, <br/>, <br/>, <br/>, <br/>, <br/>, <br/>, <br/>, <br/>, <br/>, <br/>, <br/>, <br/>, <br/>, <br/>, <br/>, <br/>, <br/>, <br/>, <br/>, <br/>, <br/>, <br/>, <br/>, <br/>, <br/>, <br/>, <br/>, <br/>, <br/>, <br/>, <br/>, <br/>, <br/>, <br/>, <br/>, <br/>, <br/>, <br/>, <br/>, <br/>, <br/>, <br/>, <br/>]\n"
          ]
        }
      ]
    },
    {
      "cell_type": "code",
      "metadata": {
        "colab": {
          "base_uri": "https://localhost:8080/",
          "height": 36
        },
        "id": "HloJ67LO5jjJ",
        "outputId": "736a28fc-76ef-41e5-d143-a1f059d18ba1"
      },
      "source": [
        ""
      ],
      "execution_count": null,
      "outputs": [
        {
          "output_type": "execute_result",
          "data": {
            "application/vnd.google.colaboratory.intrinsic+json": {
              "type": "string"
            },
            "text/plain": [
              "'/content'"
            ]
          },
          "metadata": {},
          "execution_count": 23
        }
      ]
    }
  ]
}