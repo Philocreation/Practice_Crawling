{
  "nbformat": 4,
  "nbformat_minor": 0,
  "metadata": {
    "colab": {
      "name": "네이버 웹툰 인기급상승 크롤링_2021-11-12.ipynb",
      "provenance": [],
      "collapsed_sections": [],
      "authorship_tag": "ABX9TyOW5Kk+1Gv+XM1Vh/7Tqpsu",
      "include_colab_link": true
    },
    "kernelspec": {
      "name": "python3",
      "display_name": "Python 3"
    },
    "language_info": {
      "name": "python"
    }
  },
  "cells": [
    {
      "cell_type": "markdown",
      "metadata": {
        "id": "view-in-github",
        "colab_type": "text"
      },
      "source": [
        "<a href=\"https://colab.research.google.com/github/Philocreation/Practice_Crawling/blob/Res%2FBs4/%EB%84%A4%EC%9D%B4%EB%B2%84_%EC%9B%B9%ED%88%B0_%EC%9D%B8%EA%B8%B0%EA%B8%89%EC%83%81%EC%8A%B9_%ED%81%AC%EB%A1%A4%EB%A7%81_2021_11_12.ipynb\" target=\"_parent\"><img src=\"https://colab.research.google.com/assets/colab-badge.svg\" alt=\"Open In Colab\"/></a>"
      ]
    },
    {
      "cell_type": "code",
      "metadata": {
        "colab": {
          "base_uri": "https://localhost:8080/",
          "height": 175
        },
        "id": "-tGJiGh2mq9k",
        "outputId": "28151da0-c521-43f7-c82b-8d69f3cf2dde"
      },
      "source": [
        "import requests\n",
        "from bs4 import BeautifulSoup\n",
        "import pandas as pd\n",
        "indeed_result = requests.get(\"https://kr.indeed.com/jobs?q=python&limit=50&radius=25\")\n",
        "\n",
        "indeed_soup = BeautifulSoup(indeed_result.text,\"html.parser\")\n",
        "\n",
        "#------------------------------------------------------------------------\n",
        "\n",
        "pagination = indeed_soup.find(\"div\",{\"class\": \"pagination\"})\n",
        "\n",
        "links = pagination.find_all('a')\n",
        "pages = []\n",
        "base_url = \"https://kr.indeed.com\"\n",
        "for link in links:\n",
        "    pages.append(base_url + link.get(\"href\"))\n",
        "pages = pages[0:-1]\n",
        "\n",
        "#print(pages)\n",
        "#print(base_url + links[0].get(\"href\"))\n",
        "#--------------------------------------------------------------------------\n",
        "df_links = pd.DataFrame(pages, columns=['hyperlink'])\n",
        "df_links"
      ],
      "execution_count": 1,
      "outputs": [
        {
          "output_type": "execute_result",
          "data": {
            "text/html": [
              "<div>\n",
              "<style scoped>\n",
              "    .dataframe tbody tr th:only-of-type {\n",
              "        vertical-align: middle;\n",
              "    }\n",
              "\n",
              "    .dataframe tbody tr th {\n",
              "        vertical-align: top;\n",
              "    }\n",
              "\n",
              "    .dataframe thead th {\n",
              "        text-align: right;\n",
              "    }\n",
              "</style>\n",
              "<table border=\"1\" class=\"dataframe\">\n",
              "  <thead>\n",
              "    <tr style=\"text-align: right;\">\n",
              "      <th></th>\n",
              "      <th>hyperlink</th>\n",
              "    </tr>\n",
              "  </thead>\n",
              "  <tbody>\n",
              "    <tr>\n",
              "      <th>0</th>\n",
              "      <td>https://kr.indeed.com/jobs?q=python&amp;limit=50&amp;r...</td>\n",
              "    </tr>\n",
              "    <tr>\n",
              "      <th>1</th>\n",
              "      <td>https://kr.indeed.com/jobs?q=python&amp;limit=50&amp;r...</td>\n",
              "    </tr>\n",
              "    <tr>\n",
              "      <th>2</th>\n",
              "      <td>https://kr.indeed.com/jobs?q=python&amp;limit=50&amp;r...</td>\n",
              "    </tr>\n",
              "    <tr>\n",
              "      <th>3</th>\n",
              "      <td>https://kr.indeed.com/jobs?q=python&amp;limit=50&amp;r...</td>\n",
              "    </tr>\n",
              "  </tbody>\n",
              "</table>\n",
              "</div>"
            ],
            "text/plain": [
              "                                           hyperlink\n",
              "0  https://kr.indeed.com/jobs?q=python&limit=50&r...\n",
              "1  https://kr.indeed.com/jobs?q=python&limit=50&r...\n",
              "2  https://kr.indeed.com/jobs?q=python&limit=50&r...\n",
              "3  https://kr.indeed.com/jobs?q=python&limit=50&r..."
            ]
          },
          "metadata": {},
          "execution_count": 1
        }
      ]
    },
    {
      "cell_type": "code",
      "metadata": {
        "colab": {
          "base_uri": "https://localhost:8080/",
          "height": 547
        },
        "id": "3jqMTeg5muTD",
        "outputId": "32e21918-83e8-4462-e762-f8d5e7df2c94"
      },
      "source": [
        "# 네이버 웹툰 인기 급상승\n",
        "# 내가 한 것 \n",
        "\n",
        "import requests\n",
        "from bs4 import BeautifulSoup\n",
        "\n",
        "webtoon_result = requests.get('https://comic.naver.com/webtoon/weekday')\n",
        "\n",
        "webtoon_soup = BeautifulSoup(webtoon_result.text,\"html.parser\")\n",
        "\n",
        "asideBoxRank = webtoon_soup.find_all(class_= \"asideBoxRank\", id=\"realTimeRankFavorite\")[0]\n",
        "\n",
        "temp_list = []\n",
        "\n",
        "for i in range(1,11):\n",
        "    try:\n",
        "        seartag = f'rank{i:02d}'\n",
        "        title = asideBoxRank.find(class_=seartag).a.text\n",
        "        print(f'{i}: {title}')\n",
        "        temp_list.append([i,title])\n",
        "    except:\n",
        "        pass\n",
        "    \n",
        "import pandas as pd \n",
        "\n",
        "df_temp_list = pd.DataFrame(temp_list, columns=['rank','title'])\n",
        "df_temp_list"
      ],
      "execution_count": 2,
      "outputs": [
        {
          "output_type": "stream",
          "name": "stdout",
          "text": [
            "1: 외모지상주의-367화 원나잇lll [08]\n",
            "2: 나 혼자 만렙 뉴비-18화. 암스테르담의 성녀\n",
            "3: 재혼 황후-89화\n",
            "4: 죽지 않으려면-28화\n",
            "5: 1초-141화 휴직 (1)\n",
            "6: 상위1%-7화\n",
            "7: 광마회귀-19화\n",
            "8: 2021 최애캐 안녕, 잘 지내니?-38화. <오늘도 형제는 평화롭다> 안부\n",
            "9: 쇼미더럭키짱!-10화 분석충! 의사 불러!\n",
            "10: 서울역 드루이드-25화\n"
          ]
        },
        {
          "output_type": "execute_result",
          "data": {
            "text/html": [
              "<div>\n",
              "<style scoped>\n",
              "    .dataframe tbody tr th:only-of-type {\n",
              "        vertical-align: middle;\n",
              "    }\n",
              "\n",
              "    .dataframe tbody tr th {\n",
              "        vertical-align: top;\n",
              "    }\n",
              "\n",
              "    .dataframe thead th {\n",
              "        text-align: right;\n",
              "    }\n",
              "</style>\n",
              "<table border=\"1\" class=\"dataframe\">\n",
              "  <thead>\n",
              "    <tr style=\"text-align: right;\">\n",
              "      <th></th>\n",
              "      <th>rank</th>\n",
              "      <th>title</th>\n",
              "    </tr>\n",
              "  </thead>\n",
              "  <tbody>\n",
              "    <tr>\n",
              "      <th>0</th>\n",
              "      <td>1</td>\n",
              "      <td>외모지상주의-367화 원나잇lll [08]</td>\n",
              "    </tr>\n",
              "    <tr>\n",
              "      <th>1</th>\n",
              "      <td>2</td>\n",
              "      <td>나 혼자 만렙 뉴비-18화. 암스테르담의 성녀</td>\n",
              "    </tr>\n",
              "    <tr>\n",
              "      <th>2</th>\n",
              "      <td>3</td>\n",
              "      <td>재혼 황후-89화</td>\n",
              "    </tr>\n",
              "    <tr>\n",
              "      <th>3</th>\n",
              "      <td>4</td>\n",
              "      <td>죽지 않으려면-28화</td>\n",
              "    </tr>\n",
              "    <tr>\n",
              "      <th>4</th>\n",
              "      <td>5</td>\n",
              "      <td>1초-141화 휴직 (1)</td>\n",
              "    </tr>\n",
              "    <tr>\n",
              "      <th>5</th>\n",
              "      <td>6</td>\n",
              "      <td>상위1%-7화</td>\n",
              "    </tr>\n",
              "    <tr>\n",
              "      <th>6</th>\n",
              "      <td>7</td>\n",
              "      <td>광마회귀-19화</td>\n",
              "    </tr>\n",
              "    <tr>\n",
              "      <th>7</th>\n",
              "      <td>8</td>\n",
              "      <td>2021 최애캐 안녕, 잘 지내니?-38화. &lt;오늘도 형제는 평화롭다&gt; 안부</td>\n",
              "    </tr>\n",
              "    <tr>\n",
              "      <th>8</th>\n",
              "      <td>9</td>\n",
              "      <td>쇼미더럭키짱!-10화 분석충! 의사 불러!</td>\n",
              "    </tr>\n",
              "    <tr>\n",
              "      <th>9</th>\n",
              "      <td>10</td>\n",
              "      <td>서울역 드루이드-25화</td>\n",
              "    </tr>\n",
              "  </tbody>\n",
              "</table>\n",
              "</div>"
            ],
            "text/plain": [
              "   rank                                       title\n",
              "0     1                     외모지상주의-367화 원나잇lll [08]\n",
              "1     2                   나 혼자 만렙 뉴비-18화. 암스테르담의 성녀\n",
              "2     3                                   재혼 황후-89화\n",
              "3     4                                 죽지 않으려면-28화\n",
              "4     5                              1초-141화 휴직 (1)\n",
              "5     6                                     상위1%-7화\n",
              "6     7                                    광마회귀-19화\n",
              "7     8  2021 최애캐 안녕, 잘 지내니?-38화. <오늘도 형제는 평화롭다> 안부\n",
              "8     9                     쇼미더럭키짱!-10화 분석충! 의사 불러!\n",
              "9    10                                서울역 드루이드-25화"
            ]
          },
          "metadata": {},
          "execution_count": 2
        }
      ]
    },
    {
      "cell_type": "code",
      "metadata": {
        "id": "pUdXuO-Emz1_"
      },
      "source": [
        ""
      ],
      "execution_count": null,
      "outputs": []
    }
  ]
}